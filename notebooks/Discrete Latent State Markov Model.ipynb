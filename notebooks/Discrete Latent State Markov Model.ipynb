{
 "metadata": {
  "name": "",
  "signature": "sha256:b34d8214e2daa5947bb343a92544c884ada9d46fe4d7105577993669cc38a5d7"
 },
 "nbformat": 3,
 "nbformat_minor": 0,
 "worksheets": [
  {
   "cells": [
    {
     "cell_type": "code",
     "collapsed": false,
     "input": [
      "%matplotlib inline"
     ],
     "language": "python",
     "metadata": {},
     "outputs": [],
     "prompt_number": 1
    },
    {
     "cell_type": "code",
     "collapsed": false,
     "input": [
      "creaks = np.array([[0.1, 0.1, 0.1, 0.9, 0.9],\n",
      "                   [0.1, 0.9, 0.9, 0.1, 0.1],\n",
      "                   [0.1, 0.9, 0.1, 0.1, 0.1],\n",
      "                   [0.9, 0.1, 0.1, 0.9, 0.9],\n",
      "                   [0.9, 0.9, 0.1, 0.1, 0.1]])"
     ],
     "language": "python",
     "metadata": {},
     "outputs": [],
     "prompt_number": 2
    },
    {
     "cell_type": "code",
     "collapsed": false,
     "input": [
      "bumps = np.array([[0.9, 0.1, 0.1, 0.9, 0.9],\n",
      "                  [0.9, 0.1, 0.1, 0.9, 0.9],\n",
      "                  [0.1, 0.9, 0.1, 0.9, 0.1],\n",
      "                  [0.1, 0.9, 0.1, 0.1, 0.1],\n",
      "                  [0.9, 0.1, 0.1, 0.1, 0.1]])"
     ],
     "language": "python",
     "metadata": {},
     "outputs": [],
     "prompt_number": 3
    },
    {
     "cell_type": "code",
     "collapsed": false,
     "input": [
      "observations = np.array([[1, 0],\n",
      "                         [0, 1],\n",
      "                         [1, 1],\n",
      "                         [0, 0],\n",
      "                         [1, 1],\n",
      "                         [0, 0],\n",
      "                         [0, 1],\n",
      "                         [0, 1],\n",
      "                         [0, 0],\n",
      "                         [0, 0]])"
     ],
     "language": "python",
     "metadata": {},
     "outputs": [],
     "prompt_number": 4
    },
    {
     "cell_type": "markdown",
     "metadata": {},
     "source": [
      "Don't want to write out the full matrix of transition probabilities, because it'd be way too big.\n",
      "Would much rather just write a function that will return the transition probabilities based on \n",
      "the current location.\n",
      "\n",
      "Going to take two inputs that are each locations (as tuples) and check if they're adjacent.\n",
      "If they are, then the transition probability is calculated as uniform over the possible options."
     ]
    },
    {
     "cell_type": "code",
     "collapsed": false,
     "input": [
      "def transition_probability(state_from, state_to, N=5):\n",
      "    \"\"\"\n",
      "    Given a coordinate, return \n",
      "    the transition probabilities.\n",
      "    \"\"\"\n",
      "    \n",
      "    prob = 0.0\n",
      "    # Check if adjacent\n",
      "    if abs(state_from[0] - state_to[0]) + abs(state_from[1] - state_to[1]) == 1:\n",
      "        # Check for x edge\n",
      "        x_edge = False\n",
      "        y_edge = False\n",
      "        if state_from[0] == 0 or state_from[0] == N-1:\n",
      "            x_edge = True\n",
      "        #Check for y edge\n",
      "        if state_from[1] == 0 or state_from[1] == N-1:\n",
      "            y_edge = True\n",
      "\n",
      "        if x_edge and y_edge:\n",
      "            prob = 1.0 / 2\n",
      "        elif x_edge or y_edge:\n",
      "            prob = 1.0 / 3\n",
      "        else:\n",
      "            prob = 1.0 / 4\n",
      "    \n",
      "    return prob"
     ],
     "language": "python",
     "metadata": {},
     "outputs": [],
     "prompt_number": 5
    },
    {
     "cell_type": "code",
     "collapsed": false,
     "input": [
      "N=5\n",
      "A = np.zeros([25,25])\n",
      "\n",
      "for i in range(0,N**2):\n",
      "    for j in range(0,N**2):\n",
      "        A[i,j] = transition_probability([i %N, i / N], [j % N, j / N])"
     ],
     "language": "python",
     "metadata": {},
     "outputs": [],
     "prompt_number": 6
    },
    {
     "cell_type": "markdown",
     "metadata": {},
     "source": [
      "Filtering\n",
      "=========\n",
      "\n",
      "Now we're going to actually start doing some HMM.\n",
      "First, we're going to flatten the emission probabilities into vectors to make it \n",
      "consistent with the textbook. Then, putting it together into a full emission matrix $B$.\n",
      "\n",
      "\n"
     ]
    },
    {
     "cell_type": "code",
     "collapsed": false,
     "input": [
      "creaks = np.ndarray.flatten(creaks)\n",
      "bumps = np.ndarray.flatten(bumps)"
     ],
     "language": "python",
     "metadata": {},
     "outputs": [],
     "prompt_number": 7
    },
    {
     "cell_type": "code",
     "collapsed": false,
     "input": [
      "# emission probabilities\n",
      "B = np.vstack([creaks,bumps])"
     ],
     "language": "python",
     "metadata": {},
     "outputs": [],
     "prompt_number": 8
    },
    {
     "cell_type": "markdown",
     "metadata": {},
     "source": [
      "Look at Barber p.496:\n",
      "\n",
      "$$\n",
      "p(h_{t},v_{1:t}) = \\sum_{h_{t-1}} p(v_{t}|h_{t}) p(h_{t}|h_{t-1}) p(h_{t-1},v_{1:t-1})\n",
      "$$\n",
      "\n",
      "Hence, we define:\n",
      "\n",
      "$$\n",
      "\\alpha(h_{t}) = p(h_{t}, v_{1:t})\n",
      "$$\n",
      "\n",
      "This defines the $\\alpha$-recursion:\n",
      "\n",
      "$$\n",
      "\\alpha(h_{t}) = p(v_{t}|h_{t}) \\sum_{h_{t-1}} p(h_{t}| h_{t-1}) \\alpha(h_{t-1})\n",
      "$$\n"
     ]
    },
    {
     "cell_type": "code",
     "collapsed": false,
     "input": [
      "if observations[0][1] == 1:\n",
      "    b = bumps\n",
      "else:\n",
      "    b = 1-bumps\n",
      "if observations[0][0] == 1:\n",
      "    c = creaks\n",
      "else:\n",
      "    c = 1-creaks"
     ],
     "language": "python",
     "metadata": {},
     "outputs": [],
     "prompt_number": 9
    },
    {
     "cell_type": "code",
     "collapsed": false,
     "input": [
      "ht_dist = np.ones([N*N]) * 1.0 / (N * N)\n",
      "alpha = b*c*ht_dist"
     ],
     "language": "python",
     "metadata": {},
     "outputs": [],
     "prompt_number": 130
    },
    {
     "cell_type": "code",
     "collapsed": false,
     "input": [
      "alpha = alpha[np.newaxis].T"
     ],
     "language": "python",
     "metadata": {},
     "outputs": [],
     "prompt_number": 131
    },
    {
     "cell_type": "code",
     "collapsed": false,
     "input": [
      "def alpha_update(alpha, t):\n",
      "    \"\"\"Defined as joint distribution of h_t and v_1:t.\n",
      "    Return a discrete probability distribution.\"\"\"\n",
      "    \n",
      "    if observations[t][1] == 1:\n",
      "        b = bumps\n",
      "    else:\n",
      "        b = 1-bumps\n",
      "    if observations[t][0] == 1:\n",
      "        c = creaks\n",
      "    else:\n",
      "        c = 1-creaks\n",
      "    x = np.dot(A,alpha)\n",
      "    alpha = b[np.newaxis].T*c[np.newaxis].T * np.dot(A,alpha)\n",
      "    return alpha"
     ],
     "language": "python",
     "metadata": {},
     "outputs": [],
     "prompt_number": 124
    },
    {
     "cell_type": "code",
     "collapsed": false,
     "input": [
      "t = 1"
     ],
     "language": "python",
     "metadata": {},
     "outputs": [],
     "prompt_number": 132
    },
    {
     "cell_type": "code",
     "collapsed": false,
     "input": [
      "plot_heatmap(alpha/sum(alpha))"
     ],
     "language": "python",
     "metadata": {},
     "outputs": [
      {
       "metadata": {},
       "output_type": "display_data",
       "png": "[encoded data removed]",
       "text": [
        "<matplotlib.figure.Figure at 0x7f71c1b607d0>"
       ]
      }
     ],
     "prompt_number": 133
    },
    {
     "cell_type": "code",
     "collapsed": false,
     "input": [
      "alpha = alpha_update(alpha, t)\n",
      "ht_dist = alpha/sum(alpha)\n",
      "t = t+1\n",
      "print(t)\n",
      "plot_heatmap(ht_dist)"
     ],
     "language": "python",
     "metadata": {},
     "outputs": [
      {
       "output_type": "stream",
       "stream": "stdout",
       "text": [
        "2\n"
       ]
      },
      {
       "metadata": {},
       "output_type": "display_data",
       "png": "[encoded data removed]",
       "text": [
        "<matplotlib.figure.Figure at 0x7f71c1b3ccd0>"
       ]
      }
     ],
     "prompt_number": 134
    },
    {
     "cell_type": "code",
     "collapsed": false,
     "input": [
      "def plot_heatmap(v):\n",
      "    \"\"\"\n",
      "    Plot a heatmap given a vector of \n",
      "    state probabilities.\n",
      "    \"\"\"\n",
      "    N = int(np.sqrt(len(v)))\n",
      "    imshow(v.reshape([N,N]),cmap = cm.Greys_r)\n",
      "    return None"
     ],
     "language": "python",
     "metadata": {},
     "outputs": [],
     "prompt_number": 102
    },
    {
     "cell_type": "code",
     "collapsed": false,
     "input": [
      "ht_dist.reshape([5,5])"
     ],
     "language": "python",
     "metadata": {},
     "outputs": [
      {
       "metadata": {},
       "output_type": "pyout",
       "prompt_number": 100,
       "text": [
        "array([[  4.11285777e-03,   6.81970569e-01,   3.05598360e-03,\n",
        "          3.25868982e-03,   5.36412076e-05],\n",
        "       [  8.10997118e-02,   2.08504534e-03,   2.37321428e-02,\n",
        "          4.07283123e-04,   3.23234839e-02],\n",
        "       [  2.24234056e-02,   1.45679419e-03,   1.98419931e-03,\n",
        "          2.57971468e-02,   4.44400273e-03],\n",
        "       [  1.39002220e-02,   6.19540714e-05,   7.82515924e-02,\n",
        "          2.06093070e-04,   4.01597214e-03],\n",
        "       [  1.64114893e-06,   8.25345704e-03,   5.55516283e-04,\n",
        "          6.29222157e-03,   2.56372917e-04]])"
       ]
      }
     ],
     "prompt_number": 100
    },
    {
     "cell_type": "code",
     "collapsed": false,
     "input": [
      "imshow(np.random.randn(5,5))"
     ],
     "language": "python",
     "metadata": {},
     "outputs": [
      {
       "metadata": {},
       "output_type": "pyout",
       "prompt_number": 99,
       "text": [
        "<matplotlib.image.AxesImage at 0x7f71c19f6e10>"
       ]
      },
      {
       "metadata": {},
       "output_type": "display_data",
       "png": "[encoded data removed]",
       "text": [
        "<matplotlib.figure.Figure at 0x7f71c20f5e50>"
       ]
      }
     ],
     "prompt_number": 99
    },
    {
     "cell_type": "code",
     "collapsed": false,
     "input": [
      "print(ht_dist.shape)"
     ],
     "language": "python",
     "metadata": {},
     "outputs": [
      {
       "output_type": "stream",
       "stream": "stdout",
       "text": [
        "(25, 25)\n"
       ]
      }
     ],
     "prompt_number": 37
    },
    {
     "cell_type": "code",
     "collapsed": false,
     "input": [
      "x = np.random.randn(3,1)"
     ],
     "language": "python",
     "metadata": {},
     "outputs": [],
     "prompt_number": 67
    },
    {
     "cell_type": "code",
     "collapsed": false,
     "input": [
      "y = np.random.randn(3,1)"
     ],
     "language": "python",
     "metadata": {},
     "outputs": [],
     "prompt_number": 68
    },
    {
     "cell_type": "code",
     "collapsed": false,
     "input": [
      "x"
     ],
     "language": "python",
     "metadata": {},
     "outputs": [
      {
       "metadata": {},
       "output_type": "pyout",
       "prompt_number": 69,
       "text": [
        "array([[ 1.40977036],\n",
        "       [ 0.13805462],\n",
        "       [ 1.28515963]])"
       ]
      }
     ],
     "prompt_number": 69
    },
    {
     "cell_type": "code",
     "collapsed": false,
     "input": [
      "y"
     ],
     "language": "python",
     "metadata": {},
     "outputs": [
      {
       "metadata": {},
       "output_type": "pyout",
       "prompt_number": 70,
       "text": [
        "array([[ 1.25219398],\n",
        "       [ 0.67041157],\n",
        "       [-0.96131638]])"
       ]
      }
     ],
     "prompt_number": 70
    },
    {
     "cell_type": "code",
     "collapsed": false,
     "input": [
      "x*y"
     ],
     "language": "python",
     "metadata": {},
     "outputs": [
      {
       "metadata": {},
       "output_type": "pyout",
       "prompt_number": 71,
       "text": [
        "array([[ 1.76530596],\n",
        "       [ 0.09255342],\n",
        "       [-1.235445  ]])"
       ]
      }
     ],
     "prompt_number": 71
    }
   ],
   "metadata": {}
  }
 ]
}